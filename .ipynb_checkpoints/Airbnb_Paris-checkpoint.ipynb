{
 "cells": [
  {
   "cell_type": "code",
   "execution_count": null,
   "metadata": {},
   "outputs": [],
   "source": [
    "# Objective du projet : Faire un beau projet qui mêle du Python et du SQL \n",
    "#(par exemple par un connecteur de données ou bien l'écriture de requêtes SQL puis l'export des résultats dans une base SQL)"
   ]
  },
  {
   "cell_type": "code",
   "execution_count": 2,
   "metadata": {},
   "outputs": [],
   "source": [
    "# Import des packages utiles pour l'étude de cas\n",
    "import os\n",
    "import mysql.connector\n",
    "import pandas as pd\n",
    "import numpy as np\n",
    "import matplotlib.pyplot as plt\n",
    "import seaborn as sns\n",
    "%matplotlib inline"
   ]
  },
  {
   "cell_type": "code",
   "execution_count": 3,
   "metadata": {},
   "outputs": [],
   "source": [
    "# Source des données : http://insideairbnb.com/get-the-data\n",
    "\n",
    "# Paris data\n",
    "Paris_reviews = pd.read_csv('C:/Users/margo/Documents/Documents/Formation/Github/Data/Airbnb_Paris/reviews.csv')\n",
    "Paris_listings = pd.read_csv('C:/Users/margo/Documents/Documents/Formation/Github/Data/Airbnb_Paris/listings.csv')\n",
    "Paris_calendar = pd.read_csv('C:/Users/margo/Documents/Documents/Formation/Github/Data/Airbnb_Paris/calendar.csv')\n",
    "\n",
    "# Singapore data\n",
    "SG_reviews = pd.read_csv('C:/Users/margo/Documents/Documents/Formation/Github/Data/Airbnb_Singapore/reviews.csv')\n",
    "SG_listings = pd.read_csv('C:/Users/margo/Documents/Documents/Formation/Github/Data/Airbnb_Singapore/listings.csv')\n",
    "SG_calendar = pd.read_csv('C:/Users/margo/Documents/Documents/Formation/Github/Data/Airbnb_Singapore/calendar.csv')"
   ]
  },
  {
   "cell_type": "code",
   "execution_count": 6,
   "metadata": {},
   "outputs": [
    {
     "data": {
      "text/plain": [
       "<mysql.connector.connection_cext.CMySQLConnection at 0x1880005d148>"
      ]
     },
     "execution_count": 6,
     "metadata": {},
     "output_type": "execute_result"
    }
   ],
   "source": [
    "# Connection MySQL\n",
    "user_name = os.environ.get('DB_USER')\n",
    "password = os.environ.get('DB_PASS')\n",
    "\n",
    "## MASQUER MES INFOS !!!\n",
    "connection = mysql.connector.connect(host = 'localhost',\n",
    "                                    user = 'root',\n",
    "                                    passwd = 'NuitNoire.12',\n",
    "                                    db = 'margotdb')\n",
    "connection"
   ]
  },
  {
   "cell_type": "code",
   "execution_count": 11,
   "metadata": {},
   "outputs": [
    {
     "data": {
      "text/html": [
       "<div>\n",
       "<style scoped>\n",
       "    .dataframe tbody tr th:only-of-type {\n",
       "        vertical-align: middle;\n",
       "    }\n",
       "\n",
       "    .dataframe tbody tr th {\n",
       "        vertical-align: top;\n",
       "    }\n",
       "\n",
       "    .dataframe thead th {\n",
       "        text-align: right;\n",
       "    }\n",
       "</style>\n",
       "<table border=\"1\" class=\"dataframe\">\n",
       "  <thead>\n",
       "    <tr style=\"text-align: right;\">\n",
       "      <th></th>\n",
       "      <th>listing_id</th>\n",
       "      <th>id</th>\n",
       "      <th>date</th>\n",
       "      <th>reviewer_id</th>\n",
       "      <th>reviewer_name</th>\n",
       "      <th>comments</th>\n",
       "    </tr>\n",
       "  </thead>\n",
       "  <tbody>\n",
       "    <tr>\n",
       "      <th>130</th>\n",
       "      <td>52899231</td>\n",
       "      <td>709246316243666807</td>\n",
       "      <td>2022-09-05</td>\n",
       "      <td>461336328</td>\n",
       "      <td>Nicolas</td>\n",
       "      <td>Nous y avons passé un excellent séjour, rien à...</td>\n",
       "    </tr>\n",
       "    <tr>\n",
       "      <th>173</th>\n",
       "      <td>14810171</td>\n",
       "      <td>707812262510751526</td>\n",
       "      <td>2022-09-03</td>\n",
       "      <td>9842045</td>\n",
       "      <td>John</td>\n",
       "      <td>If you want to experience real Paris, this is ...</td>\n",
       "    </tr>\n",
       "    <tr>\n",
       "      <th>2472</th>\n",
       "      <td>3502208</td>\n",
       "      <td>709232527240328596</td>\n",
       "      <td>2022-09-05</td>\n",
       "      <td>82114257</td>\n",
       "      <td>Rem</td>\n",
       "      <td>Jolie maison bien située avec des propriétaire...</td>\n",
       "    </tr>\n",
       "    <tr>\n",
       "      <th>2572</th>\n",
       "      <td>14004980</td>\n",
       "      <td>708540949355281500</td>\n",
       "      <td>2022-09-04</td>\n",
       "      <td>201532227</td>\n",
       "      <td>MayreAnn</td>\n",
       "      <td>The apartment was clean and in a convenient lo...</td>\n",
       "    </tr>\n",
       "    <tr>\n",
       "      <th>2925</th>\n",
       "      <td>628286889673474568</td>\n",
       "      <td>712089903602967021</td>\n",
       "      <td>2022-09-09</td>\n",
       "      <td>406057849</td>\n",
       "      <td>Christopher</td>\n",
       "      <td>Excellent location, great communication and ch...</td>\n",
       "    </tr>\n",
       "    <tr>\n",
       "      <th>...</th>\n",
       "      <td>...</td>\n",
       "      <td>...</td>\n",
       "      <td>...</td>\n",
       "      <td>...</td>\n",
       "      <td>...</td>\n",
       "      <td>...</td>\n",
       "    </tr>\n",
       "    <tr>\n",
       "      <th>1466729</th>\n",
       "      <td>657727126745124850</td>\n",
       "      <td>710712376227054794</td>\n",
       "      <td>2022-09-07</td>\n",
       "      <td>470168055</td>\n",
       "      <td>Vincent</td>\n",
       "      <td>Excellent rapport de prix en comparaison des p...</td>\n",
       "    </tr>\n",
       "    <tr>\n",
       "      <th>1466730</th>\n",
       "      <td>657727126745124850</td>\n",
       "      <td>707809753526365081</td>\n",
       "      <td>2022-09-03</td>\n",
       "      <td>5774707</td>\n",
       "      <td>Alain</td>\n",
       "      <td>Léo vous accueillera avec beaucoup de sympathi...</td>\n",
       "    </tr>\n",
       "    <tr>\n",
       "      <th>1467043</th>\n",
       "      <td>22481703</td>\n",
       "      <td>706309674405836922</td>\n",
       "      <td>2022-09-01</td>\n",
       "      <td>190602727</td>\n",
       "      <td>Stanislav</td>\n",
       "      <td>It was a very nice apartment to stay a couple ...</td>\n",
       "    </tr>\n",
       "    <tr>\n",
       "      <th>1467174</th>\n",
       "      <td>683310015681698980</td>\n",
       "      <td>709194233063336379</td>\n",
       "      <td>2022-09-05</td>\n",
       "      <td>427384339</td>\n",
       "      <td>Alexandra</td>\n",
       "      <td>Really nice and cozy apartment with great loca...</td>\n",
       "    </tr>\n",
       "    <tr>\n",
       "      <th>1467242</th>\n",
       "      <td>1716410</td>\n",
       "      <td>712096523996644003</td>\n",
       "      <td>2022-09-09</td>\n",
       "      <td>226776340</td>\n",
       "      <td>Pina</td>\n",
       "      <td>L'appartamento curato in ogni dettaglio, forni...</td>\n",
       "    </tr>\n",
       "  </tbody>\n",
       "</table>\n",
       "<p>7304 rows × 6 columns</p>\n",
       "</div>"
      ],
      "text/plain": [
       "                 listing_id                  id        date  reviewer_id  \\\n",
       "130                52899231  709246316243666807  2022-09-05    461336328   \n",
       "173                14810171  707812262510751526  2022-09-03      9842045   \n",
       "2472                3502208  709232527240328596  2022-09-05     82114257   \n",
       "2572               14004980  708540949355281500  2022-09-04    201532227   \n",
       "2925     628286889673474568  712089903602967021  2022-09-09    406057849   \n",
       "...                     ...                 ...         ...          ...   \n",
       "1466729  657727126745124850  710712376227054794  2022-09-07    470168055   \n",
       "1466730  657727126745124850  707809753526365081  2022-09-03      5774707   \n",
       "1467043            22481703  706309674405836922  2022-09-01    190602727   \n",
       "1467174  683310015681698980  709194233063336379  2022-09-05    427384339   \n",
       "1467242             1716410  712096523996644003  2022-09-09    226776340   \n",
       "\n",
       "        reviewer_name                                           comments  \n",
       "130           Nicolas  Nous y avons passé un excellent séjour, rien à...  \n",
       "173              John  If you want to experience real Paris, this is ...  \n",
       "2472              Rem  Jolie maison bien située avec des propriétaire...  \n",
       "2572         MayreAnn  The apartment was clean and in a convenient lo...  \n",
       "2925      Christopher  Excellent location, great communication and ch...  \n",
       "...               ...                                                ...  \n",
       "1466729       Vincent  Excellent rapport de prix en comparaison des p...  \n",
       "1466730         Alain  Léo vous accueillera avec beaucoup de sympathi...  \n",
       "1467043     Stanislav  It was a very nice apartment to stay a couple ...  \n",
       "1467174     Alexandra  Really nice and cozy apartment with great loca...  \n",
       "1467242          Pina  L'appartamento curato in ogni dettaglio, forni...  \n",
       "\n",
       "[7304 rows x 6 columns]"
      ]
     },
     "execution_count": 11,
     "metadata": {},
     "output_type": "execute_result"
    }
   ],
   "source": [
    "# Je fais des opérations sous Python et je vais essayer d'écrire sur MySQL workbench\n",
    "Paris_reviews.head(10)\n",
    "test = Paris_reviews[Paris_reviews[\"date\"]>= '2022-09-01']"
   ]
  },
  {
   "cell_type": "code",
   "execution_count": 13,
   "metadata": {},
   "outputs": [],
   "source": [
    "mycursor = connection.cursor()\n",
    "mycursor.execute(\"CREATE TABLE test (listing_id INT AUTO_INCREMENT PRIMARY KEY, id INT, date_review DATE, reviewer_id INT, reviewer_name VARCHAR(255), comments VARCHAR(355))\")"
   ]
  },
  {
   "cell_type": "code",
   "execution_count": 15,
   "metadata": {},
   "outputs": [
    {
     "ename": "InternalError",
     "evalue": "Unread result found",
     "output_type": "error",
     "traceback": [
      "\u001b[1;31m---------------------------------------------------------------------------\u001b[0m",
      "\u001b[1;31mInternalError\u001b[0m                             Traceback (most recent call last)",
      "\u001b[1;32m<ipython-input-15-f1c1a3fdc38b>\u001b[0m in \u001b[0;36m<module>\u001b[1;34m\u001b[0m\n\u001b[1;32m----> 1\u001b[1;33m \u001b[0mmycursor\u001b[0m\u001b[1;33m.\u001b[0m\u001b[0mexecute\u001b[0m\u001b[1;33m(\u001b[0m\u001b[1;34m\"SHOW TABLES\"\u001b[0m\u001b[1;33m)\u001b[0m\u001b[1;33m\u001b[0m\u001b[1;33m\u001b[0m\u001b[0m\n\u001b[0m\u001b[0;32m      2\u001b[0m \u001b[0mmycursor\u001b[0m\u001b[1;33m.\u001b[0m\u001b[0mfetchall\u001b[0m\u001b[1;33m(\u001b[0m\u001b[1;33m)\u001b[0m\u001b[1;33m\u001b[0m\u001b[1;33m\u001b[0m\u001b[0m\n",
      "\u001b[1;32m~\\anaconda3\\lib\\site-packages\\mysql\\connector\\cursor_cext.py\u001b[0m in \u001b[0;36mexecute\u001b[1;34m(self, operation, params, multi)\u001b[0m\n\u001b[0;32m    250\u001b[0m         \u001b[1;32mexcept\u001b[0m \u001b[1;33m(\u001b[0m\u001b[0mProgrammingError\u001b[0m\u001b[1;33m,\u001b[0m \u001b[0mReferenceError\u001b[0m\u001b[1;33m)\u001b[0m \u001b[1;32mas\u001b[0m \u001b[0merr\u001b[0m\u001b[1;33m:\u001b[0m\u001b[1;33m\u001b[0m\u001b[1;33m\u001b[0m\u001b[0m\n\u001b[0;32m    251\u001b[0m             \u001b[1;32mraise\u001b[0m \u001b[0mProgrammingError\u001b[0m\u001b[1;33m(\u001b[0m\u001b[1;34m\"Cursor is not connected\"\u001b[0m\u001b[1;33m,\u001b[0m \u001b[1;36m2055\u001b[0m\u001b[1;33m)\u001b[0m \u001b[1;32mfrom\u001b[0m \u001b[0merr\u001b[0m\u001b[1;33m\u001b[0m\u001b[1;33m\u001b[0m\u001b[0m\n\u001b[1;32m--> 252\u001b[1;33m         \u001b[0mself\u001b[0m\u001b[1;33m.\u001b[0m\u001b[0m_cnx\u001b[0m\u001b[1;33m.\u001b[0m\u001b[0mhandle_unread_result\u001b[0m\u001b[1;33m(\u001b[0m\u001b[1;33m)\u001b[0m\u001b[1;33m\u001b[0m\u001b[1;33m\u001b[0m\u001b[0m\n\u001b[0m\u001b[0;32m    253\u001b[0m \u001b[1;33m\u001b[0m\u001b[0m\n\u001b[0;32m    254\u001b[0m         \u001b[0mstmt\u001b[0m \u001b[1;33m=\u001b[0m \u001b[1;34m\"\"\u001b[0m\u001b[1;33m\u001b[0m\u001b[1;33m\u001b[0m\u001b[0m\n",
      "\u001b[1;32m~\\anaconda3\\lib\\site-packages\\mysql\\connector\\connection_cext.py\u001b[0m in \u001b[0;36mhandle_unread_result\u001b[1;34m(self, prepared)\u001b[0m\n\u001b[0;32m    870\u001b[0m             \u001b[0mself\u001b[0m\u001b[1;33m.\u001b[0m\u001b[0mconsume_results\u001b[0m\u001b[1;33m(\u001b[0m\u001b[1;33m)\u001b[0m\u001b[1;33m\u001b[0m\u001b[1;33m\u001b[0m\u001b[0m\n\u001b[0;32m    871\u001b[0m         \u001b[1;32melif\u001b[0m \u001b[0munread_result\u001b[0m\u001b[1;33m:\u001b[0m\u001b[1;33m\u001b[0m\u001b[1;33m\u001b[0m\u001b[0m\n\u001b[1;32m--> 872\u001b[1;33m             \u001b[1;32mraise\u001b[0m \u001b[0mInternalError\u001b[0m\u001b[1;33m(\u001b[0m\u001b[1;34m\"Unread result found\"\u001b[0m\u001b[1;33m)\u001b[0m\u001b[1;33m\u001b[0m\u001b[1;33m\u001b[0m\u001b[0m\n\u001b[0m\u001b[0;32m    873\u001b[0m \u001b[1;33m\u001b[0m\u001b[0m\n\u001b[0;32m    874\u001b[0m     \u001b[1;32mdef\u001b[0m \u001b[0mreset_session\u001b[0m\u001b[1;33m(\u001b[0m\u001b[0mself\u001b[0m\u001b[1;33m,\u001b[0m \u001b[0muser_variables\u001b[0m\u001b[1;33m=\u001b[0m\u001b[1;32mNone\u001b[0m\u001b[1;33m,\u001b[0m \u001b[0msession_variables\u001b[0m\u001b[1;33m=\u001b[0m\u001b[1;32mNone\u001b[0m\u001b[1;33m)\u001b[0m\u001b[1;33m:\u001b[0m\u001b[1;33m\u001b[0m\u001b[1;33m\u001b[0m\u001b[0m\n",
      "\u001b[1;31mInternalError\u001b[0m: Unread result found"
     ]
    }
   ],
   "source": []
  },
  {
   "cell_type": "code",
   "execution_count": null,
   "metadata": {},
   "outputs": [],
   "source": []
  }
 ],
 "metadata": {
  "kernelspec": {
   "display_name": "Python 3",
   "language": "python",
   "name": "python3"
  },
  "language_info": {
   "codemirror_mode": {
    "name": "ipython",
    "version": 3
   },
   "file_extension": ".py",
   "mimetype": "text/x-python",
   "name": "python",
   "nbconvert_exporter": "python",
   "pygments_lexer": "ipython3",
   "version": "3.7.6"
  }
 },
 "nbformat": 4,
 "nbformat_minor": 4
}
