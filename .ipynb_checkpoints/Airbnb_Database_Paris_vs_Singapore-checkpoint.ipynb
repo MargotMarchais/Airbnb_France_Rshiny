{
 "cells": [
  {
   "cell_type": "code",
   "execution_count": 1,
   "metadata": {},
   "outputs": [],
   "source": [
    "# Objective du projet : Faire un beau projet qui mêle du Python et du SQL \n",
    "#(par exemple par un connecteur de données ou bien l'écriture de requêtes SQL puis l'export des résultats dans une base SQL)"
   ]
  },
  {
   "cell_type": "code",
   "execution_count": 2,
   "metadata": {},
   "outputs": [],
   "source": [
    "# Import des packages utiles pour l'étude de cas\n",
    "import os\n",
    "import mysql.connector\n",
    "import pandas as pd\n",
    "import numpy as np\n",
    "import matplotlib.pyplot as plt\n",
    "import seaborn as sns\n",
    "%matplotlib inline"
   ]
  },
  {
   "cell_type": "code",
   "execution_count": null,
   "metadata": {},
   "outputs": [],
   "source": [
    "# Source des données : http://insideairbnb.com/get-the-data\n",
    "\n",
    "# Paris data\n",
    "Paris_reviews = pd.read_csv('C:/Users/margo/Documents/Documents/Formation/Github/0_Data/Airbnb_Paris/reviews.csv')\n",
    "Paris_listings = pd.read_csv('C:/Users/margo/Documents/Documents/Formation/Github/0_Data/Airbnb_Paris/listings.csv')\n",
    "Paris_calendar = pd.read_csv('C:/Users/margo/Documents/Documents/Formation/Github/0_Data/Airbnb_Paris/calendar.csv')\n",
    "\n",
    "# Singapore data\n",
    "SG_reviews = pd.read_csv('C:/Users/margo/Documents/Documents/Formation/Github/0_Data/Airbnb_Singapore/reviews.csv')\n",
    "SG_listings = pd.read_csv('C:/Users/margo/Documents/Documents/Formation/Github/0_Data/Airbnb_Singapore/listings.csv')\n",
    "SG_calendar = pd.read_csv('C:/Users/margo/Documents/Documents/Formation/Github/0_Data/Airbnb_Singapore/calendar.csv')"
   ]
  },
  {
   "cell_type": "code",
   "execution_count": null,
   "metadata": {},
   "outputs": [],
   "source": [
    "# Aperçu des données : \n",
    "Paris_reviews.head()\n"
   ]
  },
  {
   "cell_type": "code",
   "execution_count": null,
   "metadata": {},
   "outputs": [],
   "source": [
    "# Connection MySQL\n",
    "user_name = os.environ.get('DB_USER')\n",
    "password = os.environ.get('DB_PASS')\n",
    "\n",
    "## MASQUER MES INFOS !!!\n",
    "connection = mysql.connector.connect(host = 'localhost',\n",
    "                                    user = 'root',\n",
    "                                    passwd = 'NuitNoire.12',\n",
    "                                    db = 'margotdb')\n",
    "connection"
   ]
  },
  {
   "cell_type": "code",
   "execution_count": null,
   "metadata": {},
   "outputs": [],
   "source": [
    "# Je fais des opérations sous Python et je vais essayer d'écrire sur MySQL workbench\n",
    "Paris_reviews.head(10)\n",
    "test = Paris_reviews[Paris_reviews[\"date\"]>= '2022-09-01']"
   ]
  },
  {
   "cell_type": "code",
   "execution_count": null,
   "metadata": {},
   "outputs": [],
   "source": []
  }
 ],
 "metadata": {
  "kernelspec": {
   "display_name": "Python 3",
   "language": "python",
   "name": "python3"
  },
  "language_info": {
   "codemirror_mode": {
    "name": "ipython",
    "version": 3
   },
   "file_extension": ".py",
   "mimetype": "text/x-python",
   "name": "python",
   "nbconvert_exporter": "python",
   "pygments_lexer": "ipython3",
   "version": "3.7.6"
  }
 },
 "nbformat": 4,
 "nbformat_minor": 4
}
