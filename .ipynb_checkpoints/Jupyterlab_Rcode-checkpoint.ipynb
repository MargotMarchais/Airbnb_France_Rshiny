{
 "cells": [
  {
   "cell_type": "code",
   "execution_count": null,
   "id": "022a9bf6-784a-4a40-9335-b0bef81a1844",
   "metadata": {},
   "outputs": [],
   "source": [
    "# Import relevant packages\n",
    "library(dplyr)\n",
    "library(lubridate)"
   ]
  },
  {
   "cell_type": "code",
   "execution_count": null,
   "id": "44609a2c-474d-4619-9a42-7716c935f7e3",
   "metadata": {},
   "outputs": [],
   "source": [
    "#######################\n",
    "### Import the data ###\n",
    "#######################\n",
    "\n",
    "# Objective: For each city, the listings, reviews and calendar data are loaded in R workspace\n",
    "\n",
    "string = \"~/Documents/Formation/Github/0_Data/\"\n",
    "\n",
    "# Paris\n",
    "listings_Paris <- read.csv(paste0(string, \"Airbnb_Paris/listings.csv\"), encoding=\"UTF-8\", comment.char=\"#\")\n",
    "reviews_Paris <- read.csv(paste0(string, \"Airbnb_Paris/reviews.csv\"), encoding=\"UTF-8\", comment.char=\"#\")\n",
    "calendar_Paris <- read.csv(paste0(string, \"Airbnb_Paris/calendar.csv\"), encoding=\"UTF-8\", comment.char=\"#\")\n",
    "\n",
    "# Bordeaux\n",
    "listings_Bordeaux <- read.csv(paste0(string, \"Airbnb_Bordeaux/listings.csv\"), encoding=\"UTF-8\", comment.char=\"#\")\n",
    "reviews_Bordeaux <- read.csv(paste0(string, \"Airbnb_Bordeaux/reviews.csv\"), encoding=\"UTF-8\", comment.char=\"#\")\n",
    "calendar_Bordeaux <- read.csv(paste0(string, \"Airbnb_Bordeaux/calendar.csv\"), encoding=\"UTF-8\", comment.char=\"#\")\n",
    "\n",
    "# Lyon\n",
    "listings_Lyon <- read.csv(paste0(string, \"Airbnb_Lyon/listings.csv\"), encoding=\"UTF-8\", comment.char=\"#\")\n",
    "reviews_Lyon <- read.csv(paste0(string, \"Airbnb_Lyon/reviews.csv\"), encoding=\"UTF-8\", comment.char=\"#\")\n",
    "calendar_Lyon <- read.csv(paste0(string, \"Airbnb_Lyon/calendar.csv\"), encoding=\"UTF-8\", comment.char=\"#\")\n",
    "\n"
   ]
  },
  {
   "cell_type": "code",
   "execution_count": null,
   "id": "5a2fda09-4ca4-4f95-b8be-c59d85e99c29",
   "metadata": {},
   "outputs": [],
   "source": [
    "################################\n",
    "### BUILD A CENTRAL DATABASE ###\n",
    "################################\n",
    "\n",
    "# Objective : Build a centralized dataset for listings, reviews and calendar\n",
    "\n",
    "listings = rbind(listings_Paris, listings_Bordeaux, listings_Lyon)\n",
    "reviews = rbind(reviews_Paris, reviews_Bordeaux, reviews_Lyon)\n",
    "calendar = rbind(calendar_Paris, calendar_Bordeaux, calendar_Lyon)\n",
    "\n",
    "# Remove individual files to free memory\n",
    "rm(listings_Paris, listings_Bordeaux, listings_Lyon,\n",
    "   reviews_Paris, reviews_Bordeaux, reviews_Lyon,\n",
    "   calendar_Paris, calendar_Bordeaux, calendar_Lyon)\n",
    "gc()"
   ]
  }
 ],
 "metadata": {
  "kernelspec": {
   "display_name": "R",
   "language": "R",
   "name": "ir"
  },
  "language_info": {
   "codemirror_mode": "r",
   "file_extension": ".r",
   "mimetype": "text/x-r-source",
   "name": "R",
   "pygments_lexer": "r",
   "version": "3.6.1"
  }
 },
 "nbformat": 4,
 "nbformat_minor": 5
}
