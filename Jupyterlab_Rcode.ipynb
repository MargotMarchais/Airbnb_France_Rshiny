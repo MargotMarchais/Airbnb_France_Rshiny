{
 "cells": [
  {
   "cell_type": "code",
   "execution_count": null,
   "id": "022a9bf6-784a-4a40-9335-b0bef81a1844",
   "metadata": {},
   "outputs": [],
   "source": [
    "# Import relevant packages\n",
    "library(dplyr)\n",
    "library(lubridate)"
   ]
  },
  {
   "cell_type": "code",
   "execution_count": null,
   "id": "73e3c448-b5f1-4fb1-bd8e-f67f368fe421",
   "metadata": {},
   "outputs": [],
   "source": [
    "#######################\n",
    "### Import the data ###\n",
    "#######################\n",
    "\n",
    "# Objective: For each city, the listings, reviews and calendar data are loaded in R workspace\n",
    "\n",
    "string = \"~/Documents/Formation/Github/0_Data/\"\n",
    "\n",
    "# Paris\n",
    "listings_Paris <- read.csv(paste0(string, \"Airbnb_Paris/listings.csv\"), encoding=\"UTF-8\", comment.char=\"#\")\n",
    "reviews_Paris <- read.csv(paste0(string, \"Airbnb_Paris/reviews.csv\"), encoding=\"UTF-8\", comment.char=\"#\")\n",
    "calendar_Paris <- read.csv(paste0(string, \"Airbnb_Paris/calendar.csv\"), encoding=\"UTF-8\", comment.char=\"#\")\n",
    "\n",
    "# Bordeaux\n",
    "listings_Bordeaux <- read.csv(paste0(string, \"Airbnb_Bordeaux/listings.csv\"), encoding=\"UTF-8\", comment.char=\"#\")\n",
    "reviews_Bordeaux <- read.csv(paste0(string, \"Airbnb_Bordeaux/reviews.csv\"), encoding=\"UTF-8\", comment.char=\"#\")\n",
    "calendar_Bordeaux <- read.csv(paste0(string, \"Airbnb_Bordeaux/calendar.csv\"), encoding=\"UTF-8\", comment.char=\"#\")\n",
    "\n",
    "# Lyon\n",
    "listings_Lyon <- read.csv(paste0(string, \"Airbnb_Lyon/listings.csv\"), encoding=\"UTF-8\", comment.char=\"#\")\n",
    "reviews_Lyon <- read.csv(paste0(string, \"Airbnb_Lyon/reviews.csv\"), encoding=\"UTF-8\", comment.char=\"#\")\n",
    "calendar_Lyon <- read.csv(paste0(string, \"Airbnb_Lyon/calendar.csv\"), encoding=\"UTF-8\", comment.char=\"#\")\n",
    "\n"
   ]
  },
  {
   "cell_type": "code",
   "execution_count": 1,
   "id": "02c6681f-291c-4833-a32e-b0f5a7478da5",
   "metadata": {},
   "outputs": [
    {
     "ename": "ERROR",
     "evalue": "Error in rbind(listings_Paris, listings_Bordeaux, listings_Lyon): objet 'listings_Paris' introuvable\n",
     "output_type": "error",
     "traceback": [
      "Error in rbind(listings_Paris, listings_Bordeaux, listings_Lyon): objet 'listings_Paris' introuvable\nTraceback:\n",
      "1. rbind(listings_Paris, listings_Bordeaux, listings_Lyon)"
     ]
    }
   ],
   "source": [
    "################################\n",
    "### BUILD A CENTRAL DATABASE ###\n",
    "################################\n",
    "\n",
    "# Objective : Build a centralized dataset for listings, reviews and calendar\n",
    "\n",
    "listings = rbind(listings_Paris, listings_Bordeaux, listings_Lyon)\n",
    "reviews = rbind(reviews_Paris, reviews_Bordeaux, reviews_Lyon)\n",
    "calendar = rbind(calendar_Paris, calendar_Bordeaux, calendar_Lyon)\n",
    "\n",
    "# Remove individual files to free memory\n",
    "rm(listings_Paris, listings_Bordeaux, listings_Lyon,\n",
    "   reviews_Paris, reviews_Bordeaux, reviews_Lyon,\n",
    "   calendar_Paris, calendar_Bordeaux, calendar_Lyon)\n",
    "gc()"
   ]
  },
  {
   "cell_type": "code",
   "execution_count": null,
   "id": "65ce08d4-b498-45b8-a4e9-bba450f292b2",
   "metadata": {},
   "outputs": [],
   "source": []
  },
  {
   "cell_type": "code",
   "execution_count": null,
   "id": "95fb1e45-3265-44e7-89b7-42be05b072f8",
   "metadata": {},
   "outputs": [],
   "source": []
  },
  {
   "cell_type": "code",
   "execution_count": null,
   "id": "58b79b65-29c8-44a0-99ca-fcfde1b96b9e",
   "metadata": {},
   "outputs": [],
   "source": []
  }
 ],
 "metadata": {
  "kernelspec": {
   "display_name": "R",
   "language": "R",
   "name": "ir"
  },
  "language_info": {
   "codemirror_mode": "r",
   "file_extension": ".r",
   "mimetype": "text/x-r-source",
   "name": "R",
   "pygments_lexer": "r",
   "version": "3.6.1"
  }
 },
 "nbformat": 4,
 "nbformat_minor": 5
}
