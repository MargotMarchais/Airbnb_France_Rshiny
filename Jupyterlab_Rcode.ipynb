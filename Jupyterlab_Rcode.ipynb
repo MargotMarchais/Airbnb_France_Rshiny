{
 "cells": [
  {
   "cell_type": "code",
   "execution_count": 1,
   "id": "022a9bf6-784a-4a40-9335-b0bef81a1844",
   "metadata": {},
   "outputs": [
    {
     "ename": "NameError",
     "evalue": "name 'library' is not defined",
     "output_type": "error",
     "traceback": [
      "\u001b[1;31m---------------------------------------------------------------------------\u001b[0m",
      "\u001b[1;31mNameError\u001b[0m                                 Traceback (most recent call last)",
      "\u001b[1;32m~\\AppData\\Local\\Temp\\ipykernel_15524\\45736828.py\u001b[0m in \u001b[0;36m<module>\u001b[1;34m\u001b[0m\n\u001b[0;32m      1\u001b[0m \u001b[1;31m# Import relevant packages\u001b[0m\u001b[1;33m\u001b[0m\u001b[1;33m\u001b[0m\u001b[0m\n\u001b[1;32m----> 2\u001b[1;33m \u001b[0mlibrary\u001b[0m\u001b[1;33m(\u001b[0m\u001b[0mdplyr\u001b[0m\u001b[1;33m)\u001b[0m\u001b[1;33m\u001b[0m\u001b[1;33m\u001b[0m\u001b[0m\n\u001b[0m\u001b[0;32m      3\u001b[0m \u001b[0mlibrary\u001b[0m\u001b[1;33m(\u001b[0m\u001b[0mlubridate\u001b[0m\u001b[1;33m)\u001b[0m\u001b[1;33m\u001b[0m\u001b[1;33m\u001b[0m\u001b[0m\n",
      "\u001b[1;31mNameError\u001b[0m: name 'library' is not defined"
     ]
    }
   ],
   "source": [
    "# Import relevant packages\n",
    "library(dplyr)\n",
    "library(lubridate)"
   ]
  },
  {
   "cell_type": "code",
   "execution_count": null,
   "id": "73e3c448-b5f1-4fb1-bd8e-f67f368fe421",
   "metadata": {},
   "outputs": [],
   "source": [
    "#######################\n",
    "### Import the data ###\n",
    "#######################\n",
    "\n",
    "# Objective: For each city, the listings, reviews and calendar data are loaded in R workspace\n",
    "\n",
    "string = \"~/Documents/Formation/Github/0_Data/\"\n",
    "\n",
    "# Paris\n",
    "listings_Paris <- read.csv(paste0(string, \"Airbnb_Paris/listings.csv\"), encoding=\"UTF-8\", comment.char=\"#\")\n",
    "reviews_Paris <- read.csv(paste0(string, \"Airbnb_Paris/reviews.csv\"), encoding=\"UTF-8\", comment.char=\"#\")\n",
    "calendar_Paris <- read.csv(paste0(string, \"Airbnb_Paris/calendar.csv\"), encoding=\"UTF-8\", comment.char=\"#\")\n",
    "\n",
    "# Bordeaux\n",
    "listings_Bordeaux <- read.csv(paste0(string, \"Airbnb_Bordeaux/listings.csv\"), encoding=\"UTF-8\", comment.char=\"#\")\n",
    "reviews_Bordeaux <- read.csv(paste0(string, \"Airbnb_Bordeaux/reviews.csv\"), encoding=\"UTF-8\", comment.char=\"#\")\n",
    "calendar_Bordeaux <- read.csv(paste0(string, \"Airbnb_Bordeaux/calendar.csv\"), encoding=\"UTF-8\", comment.char=\"#\")\n",
    "\n",
    "# Lyon\n",
    "listings_Lyon <- read.csv(paste0(string, \"Airbnb_Lyon/listings.csv\"), encoding=\"UTF-8\", comment.char=\"#\")\n",
    "reviews_Lyon <- read.csv(paste0(string, \"Airbnb_Lyon/reviews.csv\"), encoding=\"UTF-8\", comment.char=\"#\")\n",
    "calendar_Lyon <- read.csv(paste0(string, \"Airbnb_Lyon/calendar.csv\"), encoding=\"UTF-8\", comment.char=\"#\")\n",
    "\n"
   ]
  },
  {
   "cell_type": "code",
   "execution_count": 1,
   "id": "02c6681f-291c-4833-a32e-b0f5a7478da5",
   "metadata": {},
   "outputs": [
    {
     "ename": "ERROR",
     "evalue": "Error in rbind(listings_Paris, listings_Bordeaux, listings_Lyon): objet 'listings_Paris' introuvable\n",
     "output_type": "error",
     "traceback": [
      "Error in rbind(listings_Paris, listings_Bordeaux, listings_Lyon): objet 'listings_Paris' introuvable\nTraceback:\n",
      "1. rbind(listings_Paris, listings_Bordeaux, listings_Lyon)"
     ]
    }
   ],
   "source": [
    "################################\n",
    "### BUILD A CENTRAL DATABASE ###\n",
    "################################\n",
    "\n",
    "# Objective : Build a centralized dataset for listings, reviews and calendar\n",
    "\n",
    "listings = rbind(listings_Paris, listings_Bordeaux, listings_Lyon)\n",
    "reviews = rbind(reviews_Paris, reviews_Bordeaux, reviews_Lyon)\n",
    "calendar = rbind(calendar_Paris, calendar_Bordeaux, calendar_Lyon)\n",
    "\n",
    "# Remove individual files to free memory\n",
    "rm(listings_Paris, listings_Bordeaux, listings_Lyon,\n",
    "   reviews_Paris, reviews_Bordeaux, reviews_Lyon,\n",
    "   calendar_Paris, calendar_Bordeaux, calendar_Lyon)\n",
    "gc()"
   ]
  },
  {
   "cell_type": "code",
   "execution_count": null,
   "id": "65ce08d4-b498-45b8-a4e9-bba450f292b2",
   "metadata": {},
   "outputs": [],
   "source": []
  },
  {
   "cell_type": "code",
   "execution_count": null,
   "id": "95fb1e45-3265-44e7-89b7-42be05b072f8",
   "metadata": {},
   "outputs": [],
   "source": []
  },
  {
   "cell_type": "code",
   "execution_count": null,
   "id": "58b79b65-29c8-44a0-99ca-fcfde1b96b9e",
   "metadata": {},
   "outputs": [],
   "source": []
  }
 ],
 "metadata": {
  "kernelspec": {
   "display_name": "Python 3 (ipykernel)",
   "language": "python",
   "name": "python3"
  },
  "language_info": {
   "codemirror_mode": {
    "name": "ipython",
    "version": 3
   },
   "file_extension": ".py",
   "mimetype": "text/x-python",
   "name": "python",
   "nbconvert_exporter": "python",
   "pygments_lexer": "ipython3",
   "version": "3.9.13"
  }
 },
 "nbformat": 4,
 "nbformat_minor": 5
}
