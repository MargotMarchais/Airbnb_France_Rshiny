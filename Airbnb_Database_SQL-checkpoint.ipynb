{
 "cells": [
  {
   "cell_type": "markdown",
   "id": "2941c8d4",
   "metadata": {},
   "source": []
  },
  {
   "cell_type": "code",
   "execution_count": 2,
   "id": "6e7a718a",
   "metadata": {},
   "outputs": [
    {
     "name": "stderr",
     "output_type": "stream",
     "text": [
      "\n",
      "Attaching package: 'lubridate'\n",
      "\n",
      "The following object is masked from 'package:base':\n",
      "\n",
      "    date\n",
      "\n"
     ]
    }
   ],
   "source": [
    "# Import relevant R packages\n",
    "library(dplyr)\n",
    "library(lubridate)"
   ]
  },
  {
   "cell_type": "code",
   "execution_count": null,
   "id": "e3a28e3d",
   "metadata": {},
   "outputs": [
    {
     "name": "stderr",
     "output_type": "stream",
     "text": [
      "Warning message in scan(file = file, what = what, sep = sep, quote = quote, dec = dec, :\n",
      "\"Fin de fichier (EOF) dans une chaîne de caractères entre guillements\""
     ]
    }
   ],
   "source": [
    "#Import the data\n",
    "\n",
    "# Objective: For each city, the listings, reviews and calendar data are loaded in R workspace\n",
    "\n",
    "string = \"~/Documents/Formation/Github/0_Data/\"\n",
    "\n",
    "# Paris\n",
    "listings_Paris <- read.csv(paste0(string, \"Airbnb_Paris/listings.csv\"), encoding=\"UTF-8\", comment.char=\"#\")\n",
    "reviews_Paris <- read.csv(paste0(string, \"Airbnb_Paris/reviews.csv\"), encoding=\"UTF-8\", comment.char=\"#\")\n",
    "calendar_Paris <- read.csv(paste0(string, \"Airbnb_Paris/calendar.csv\"), encoding=\"UTF-8\", comment.char=\"#\")\n",
    "\n",
    "# Bordeaux\n",
    "listings_Bordeaux <- read.csv(paste0(string, \"Airbnb_Bordeaux/listings.csv\"), encoding=\"UTF-8\", comment.char=\"#\")\n",
    "reviews_Bordeaux <- read.csv(paste0(string, \"Airbnb_Bordeaux/reviews.csv\"), encoding=\"UTF-8\", comment.char=\"#\")\n",
    "calendar_Bordeaux <- read.csv(paste0(string, \"Airbnb_Bordeaux/calendar.csv\"), encoding=\"UTF-8\", comment.char=\"#\")\n",
    "\n",
    "# Lyon\n",
    "listings_Lyon <- read.csv(paste0(string, \"Airbnb_Lyon/listings.csv\"), encoding=\"UTF-8\", comment.char=\"#\")\n",
    "reviews_Lyon <- read.csv(paste0(string, \"Airbnb_Lyon/reviews.csv\"), encoding=\"UTF-8\", comment.char=\"#\")\n",
    "calendar_Lyon <- read.csv(paste0(string, \"Airbnb_Lyon/calendar.csv\"), encoding=\"UTF-8\", comment.char=\"#\")\n"
   ]
  },
  {
   "cell_type": "code",
   "execution_count": null,
   "id": "b84d6791",
   "metadata": {},
   "outputs": [],
   "source": [
    "# Objective : Build a centralized dataset for listings, reviews and calendar\n",
    "\n",
    "listings = rbind(listings_Paris, listings_Bordeaux, listings_Lyon)\n",
    "reviews = rbind(reviews_Paris, reviews_Bordeaux, reviews_Lyon)\n",
    "calendar = rbind(calendar_Paris, calendar_Bordeaux, calendar_Lyon)\n",
    "\n",
    "# Remove individual files to free memory\n",
    "rm(listings_Paris, listings_Bordeaux, listings_Lyon,\n",
    "   reviews_Paris, reviews_Bordeaux, reviews_Lyon,\n",
    "   calendar_Paris, calendar_Bordeaux, calendar_Lyon)\n",
    "gc()"
   ]
  },
  {
   "cell_type": "code",
   "execution_count": null,
   "id": "2413971b",
   "metadata": {},
   "outputs": [],
   "source": []
  }
 ],
 "metadata": {
  "kernelspec": {
   "display_name": "R",
   "language": "R",
   "name": "ir"
  },
  "language_info": {
   "codemirror_mode": "r",
   "file_extension": ".r",
   "mimetype": "text/x-r-source",
   "name": "R",
   "pygments_lexer": "r",
   "version": "3.6.1"
  }
 },
 "nbformat": 4,
 "nbformat_minor": 5
}
